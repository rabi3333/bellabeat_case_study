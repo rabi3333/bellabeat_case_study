{
 "cells": [
  {
   "cell_type": "markdown",
   "id": "b2e4cee0",
   "metadata": {},
   "source": [
    "# Analysis and Visuals"
   ]
  },
  {
   "cell_type": "raw",
   "id": "0d47c372",
   "metadata": {},
   "source": [
    "We import dailyactivity, sleepday and hourlyactivity datasets from SQL database into Rstudio for analysis."
   ]
  },
  {
   "cell_type": "code",
   "execution_count": 18,
   "id": "cce5f4fb",
   "metadata": {},
   "outputs": [
    {
     "name": "stderr",
     "output_type": "stream",
     "text": [
      "Warning message:\n",
      "\"package 'readr' was built under R version 3.6.3\"Warning message:\n",
      "\"package 'dplyr' was built under R version 3.6.3\"\n",
      "Attaching package: 'dplyr'\n",
      "\n",
      "The following objects are masked from 'package:stats':\n",
      "\n",
      "    filter, lag\n",
      "\n",
      "The following objects are masked from 'package:base':\n",
      "\n",
      "    intersect, setdiff, setequal, union\n",
      "\n"
     ]
    }
   ],
   "source": [
    "library(ggplot2)\n",
    "library(readr)\n",
    "library(dplyr)"
   ]
  },
  {
   "cell_type": "code",
   "execution_count": 20,
   "id": "8c7aed9d",
   "metadata": {},
   "outputs": [],
   "source": [
    "dailyactivity <- read_csv(\"dailyActivity_merged.csv\", \n",
    "    col_types = cols(ActivityDate = col_date(format = \"%m/%d/%Y\")))"
   ]
  },
  {
   "cell_type": "code",
   "execution_count": 4,
   "id": "75840549",
   "metadata": {},
   "outputs": [
    {
     "data": {
      "text/html": [
       "<table>\n",
       "<thead><tr><th scope=col>Id</th><th scope=col>ActivityDate</th><th scope=col>TotalSteps</th><th scope=col>TotalDistance</th><th scope=col>TrackerDistance</th><th scope=col>LoggedActivitiesDistance</th><th scope=col>VeryActiveDistance</th><th scope=col>ModeratelyActiveDistance</th><th scope=col>LightActiveDistance</th><th scope=col>SedentaryActiveDistance</th><th scope=col>VeryActiveMinutes</th><th scope=col>FairlyActiveMinutes</th><th scope=col>LightlyActiveMinutes</th><th scope=col>SedentaryMinutes</th><th scope=col>Calories</th><th scope=col>day</th></tr></thead>\n",
       "<tbody>\n",
       "\t<tr><td>1503960366</td><td>2016-04-12</td><td>13162     </td><td>8.50      </td><td>8.50      </td><td>0         </td><td>1.88      </td><td>0.55      </td><td>6.06      </td><td>0         </td><td>25        </td><td>13        </td><td>328       </td><td> 728      </td><td>1985      </td><td>mardi     </td></tr>\n",
       "\t<tr><td>1503960366</td><td>2016-04-13</td><td>10735     </td><td>6.97      </td><td>6.97      </td><td>0         </td><td>1.57      </td><td>0.69      </td><td>4.71      </td><td>0         </td><td>21        </td><td>19        </td><td>217       </td><td> 776      </td><td>1797      </td><td>mercredi  </td></tr>\n",
       "\t<tr><td>1503960366</td><td>2016-04-14</td><td>10460     </td><td>6.74      </td><td>6.74      </td><td>0         </td><td>2.44      </td><td>0.40      </td><td>3.91      </td><td>0         </td><td>30        </td><td>11        </td><td>181       </td><td>1218      </td><td>1776      </td><td>jeudi     </td></tr>\n",
       "\t<tr><td>1503960366</td><td>2016-04-15</td><td> 9762     </td><td>6.28      </td><td>6.28      </td><td>0         </td><td>2.14      </td><td>1.26      </td><td>2.83      </td><td>0         </td><td>29        </td><td>34        </td><td>209       </td><td> 726      </td><td>1745      </td><td>vendredi  </td></tr>\n",
       "\t<tr><td>1503960366</td><td>2016-04-16</td><td>12669     </td><td>8.16      </td><td>8.16      </td><td>0         </td><td>2.71      </td><td>0.41      </td><td>5.04      </td><td>0         </td><td>36        </td><td>10        </td><td>221       </td><td> 773      </td><td>1863      </td><td>samedi    </td></tr>\n",
       "\t<tr><td>1503960366</td><td>2016-04-17</td><td> 9705     </td><td>6.48      </td><td>6.48      </td><td>0         </td><td>3.19      </td><td>0.78      </td><td>2.51      </td><td>0         </td><td>38        </td><td>20        </td><td>164       </td><td> 539      </td><td>1728      </td><td>dimanche  </td></tr>\n",
       "</tbody>\n",
       "</table>\n"
      ],
      "text/latex": [
       "\\begin{tabular}{r|llllllllllllllll}\n",
       " Id & ActivityDate & TotalSteps & TotalDistance & TrackerDistance & LoggedActivitiesDistance & VeryActiveDistance & ModeratelyActiveDistance & LightActiveDistance & SedentaryActiveDistance & VeryActiveMinutes & FairlyActiveMinutes & LightlyActiveMinutes & SedentaryMinutes & Calories & day\\\\\n",
       "\\hline\n",
       "\t 1503960366 & 2016-04-12 & 13162      & 8.50       & 8.50       & 0          & 1.88       & 0.55       & 6.06       & 0          & 25         & 13         & 328        &  728       & 1985       & mardi     \\\\\n",
       "\t 1503960366 & 2016-04-13 & 10735      & 6.97       & 6.97       & 0          & 1.57       & 0.69       & 4.71       & 0          & 21         & 19         & 217        &  776       & 1797       & mercredi  \\\\\n",
       "\t 1503960366 & 2016-04-14 & 10460      & 6.74       & 6.74       & 0          & 2.44       & 0.40       & 3.91       & 0          & 30         & 11         & 181        & 1218       & 1776       & jeudi     \\\\\n",
       "\t 1503960366 & 2016-04-15 &  9762      & 6.28       & 6.28       & 0          & 2.14       & 1.26       & 2.83       & 0          & 29         & 34         & 209        &  726       & 1745       & vendredi  \\\\\n",
       "\t 1503960366 & 2016-04-16 & 12669      & 8.16       & 8.16       & 0          & 2.71       & 0.41       & 5.04       & 0          & 36         & 10         & 221        &  773       & 1863       & samedi    \\\\\n",
       "\t 1503960366 & 2016-04-17 &  9705      & 6.48       & 6.48       & 0          & 3.19       & 0.78       & 2.51       & 0          & 38         & 20         & 164        &  539       & 1728       & dimanche  \\\\\n",
       "\\end{tabular}\n"
      ],
      "text/markdown": [
       "\n",
       "| Id | ActivityDate | TotalSteps | TotalDistance | TrackerDistance | LoggedActivitiesDistance | VeryActiveDistance | ModeratelyActiveDistance | LightActiveDistance | SedentaryActiveDistance | VeryActiveMinutes | FairlyActiveMinutes | LightlyActiveMinutes | SedentaryMinutes | Calories | day |\n",
       "|---|---|---|---|---|---|---|---|---|---|---|---|---|---|---|---|\n",
       "| 1503960366 | 2016-04-12 | 13162      | 8.50       | 8.50       | 0          | 1.88       | 0.55       | 6.06       | 0          | 25         | 13         | 328        |  728       | 1985       | mardi      |\n",
       "| 1503960366 | 2016-04-13 | 10735      | 6.97       | 6.97       | 0          | 1.57       | 0.69       | 4.71       | 0          | 21         | 19         | 217        |  776       | 1797       | mercredi   |\n",
       "| 1503960366 | 2016-04-14 | 10460      | 6.74       | 6.74       | 0          | 2.44       | 0.40       | 3.91       | 0          | 30         | 11         | 181        | 1218       | 1776       | jeudi      |\n",
       "| 1503960366 | 2016-04-15 |  9762      | 6.28       | 6.28       | 0          | 2.14       | 1.26       | 2.83       | 0          | 29         | 34         | 209        |  726       | 1745       | vendredi   |\n",
       "| 1503960366 | 2016-04-16 | 12669      | 8.16       | 8.16       | 0          | 2.71       | 0.41       | 5.04       | 0          | 36         | 10         | 221        |  773       | 1863       | samedi     |\n",
       "| 1503960366 | 2016-04-17 |  9705      | 6.48       | 6.48       | 0          | 3.19       | 0.78       | 2.51       | 0          | 38         | 20         | 164        |  539       | 1728       | dimanche   |\n",
       "\n"
      ],
      "text/plain": [
       "  Id         ActivityDate TotalSteps TotalDistance TrackerDistance\n",
       "1 1503960366 2016-04-12   13162      8.50          8.50           \n",
       "2 1503960366 2016-04-13   10735      6.97          6.97           \n",
       "3 1503960366 2016-04-14   10460      6.74          6.74           \n",
       "4 1503960366 2016-04-15    9762      6.28          6.28           \n",
       "5 1503960366 2016-04-16   12669      8.16          8.16           \n",
       "6 1503960366 2016-04-17    9705      6.48          6.48           \n",
       "  LoggedActivitiesDistance VeryActiveDistance ModeratelyActiveDistance\n",
       "1 0                        1.88               0.55                    \n",
       "2 0                        1.57               0.69                    \n",
       "3 0                        2.44               0.40                    \n",
       "4 0                        2.14               1.26                    \n",
       "5 0                        2.71               0.41                    \n",
       "6 0                        3.19               0.78                    \n",
       "  LightActiveDistance SedentaryActiveDistance VeryActiveMinutes\n",
       "1 6.06                0                       25               \n",
       "2 4.71                0                       21               \n",
       "3 3.91                0                       30               \n",
       "4 2.83                0                       29               \n",
       "5 5.04                0                       36               \n",
       "6 2.51                0                       38               \n",
       "  FairlyActiveMinutes LightlyActiveMinutes SedentaryMinutes Calories day     \n",
       "1 13                  328                   728             1985     mardi   \n",
       "2 19                  217                   776             1797     mercredi\n",
       "3 11                  181                  1218             1776     jeudi   \n",
       "4 34                  209                   726             1745     vendredi\n",
       "5 10                  221                   773             1863     samedi  \n",
       "6 20                  164                   539             1728     dimanche"
      ]
     },
     "metadata": {},
     "output_type": "display_data"
    }
   ],
   "source": [
    "head(dailyactivity)"
   ]
  },
  {
   "cell_type": "code",
   "execution_count": 21,
   "id": "75935441",
   "metadata": {},
   "outputs": [
    {
     "name": "stderr",
     "output_type": "stream",
     "text": [
      "\n",
      "-- Column specification --------------------------------------------------------\n",
      "cols(\n",
      "  Id = col_double(),\n",
      "  activityhour = col_datetime(format = \"\"),\n",
      "  Calories = col_double(),\n",
      "  TotalIntensity = col_double(),\n",
      "  AverageIntensity = col_double(),\n",
      "  StepTotal = col_double()\n",
      ")\n",
      "\n"
     ]
    }
   ],
   "source": [
    "hourlyactivity <- read_csv(\"hourlyactivity.csv\")"
   ]
  },
  {
   "cell_type": "code",
   "execution_count": 6,
   "id": "629eddaf",
   "metadata": {},
   "outputs": [
    {
     "data": {
      "text/html": [
       "<table>\n",
       "<thead><tr><th scope=col>Id</th><th scope=col>activityhour</th><th scope=col>Calories</th><th scope=col>TotalIntensity</th><th scope=col>AverageIntensity</th><th scope=col>StepTotal</th><th scope=col>DayParts</th></tr></thead>\n",
       "<tbody>\n",
       "\t<tr><td>1503960366         </td><td>2016-04-12 00:00:00</td><td>81                 </td><td>20                 </td><td>0.333333           </td><td>373                </td><td>overnight          </td></tr>\n",
       "\t<tr><td>1503960366         </td><td>2016-04-12 01:00:00</td><td>61                 </td><td> 8                 </td><td>0.133333           </td><td>160                </td><td>overnight          </td></tr>\n",
       "\t<tr><td>1503960366         </td><td>2016-04-12 02:00:00</td><td>59                 </td><td> 7                 </td><td>0.116667           </td><td>151                </td><td>overnight          </td></tr>\n",
       "\t<tr><td>1503960366         </td><td>2016-04-12 03:00:00</td><td>47                 </td><td> 0                 </td><td>0.000000           </td><td>  0                </td><td>overnight          </td></tr>\n",
       "\t<tr><td>1503960366         </td><td>2016-04-12 04:00:00</td><td>48                 </td><td> 0                 </td><td>0.000000           </td><td>  0                </td><td>overnight          </td></tr>\n",
       "\t<tr><td>1503960366         </td><td>2016-04-12 05:00:00</td><td>48                 </td><td> 0                 </td><td>0.000000           </td><td>  0                </td><td>overnight          </td></tr>\n",
       "</tbody>\n",
       "</table>\n"
      ],
      "text/latex": [
       "\\begin{tabular}{r|lllllll}\n",
       " Id & activityhour & Calories & TotalIntensity & AverageIntensity & StepTotal & DayParts\\\\\n",
       "\\hline\n",
       "\t 1503960366          & 2016-04-12 00:00:00 & 81                  & 20                  & 0.333333            & 373                 & overnight          \\\\\n",
       "\t 1503960366          & 2016-04-12 01:00:00 & 61                  &  8                  & 0.133333            & 160                 & overnight          \\\\\n",
       "\t 1503960366          & 2016-04-12 02:00:00 & 59                  &  7                  & 0.116667            & 151                 & overnight          \\\\\n",
       "\t 1503960366          & 2016-04-12 03:00:00 & 47                  &  0                  & 0.000000            &   0                 & overnight          \\\\\n",
       "\t 1503960366          & 2016-04-12 04:00:00 & 48                  &  0                  & 0.000000            &   0                 & overnight          \\\\\n",
       "\t 1503960366          & 2016-04-12 05:00:00 & 48                  &  0                  & 0.000000            &   0                 & overnight          \\\\\n",
       "\\end{tabular}\n"
      ],
      "text/markdown": [
       "\n",
       "| Id | activityhour | Calories | TotalIntensity | AverageIntensity | StepTotal | DayParts |\n",
       "|---|---|---|---|---|---|---|\n",
       "| 1503960366          | 2016-04-12 00:00:00 | 81                  | 20                  | 0.333333            | 373                 | overnight           |\n",
       "| 1503960366          | 2016-04-12 01:00:00 | 61                  |  8                  | 0.133333            | 160                 | overnight           |\n",
       "| 1503960366          | 2016-04-12 02:00:00 | 59                  |  7                  | 0.116667            | 151                 | overnight           |\n",
       "| 1503960366          | 2016-04-12 03:00:00 | 47                  |  0                  | 0.000000            |   0                 | overnight           |\n",
       "| 1503960366          | 2016-04-12 04:00:00 | 48                  |  0                  | 0.000000            |   0                 | overnight           |\n",
       "| 1503960366          | 2016-04-12 05:00:00 | 48                  |  0                  | 0.000000            |   0                 | overnight           |\n",
       "\n"
      ],
      "text/plain": [
       "  Id         activityhour        Calories TotalIntensity AverageIntensity\n",
       "1 1503960366 2016-04-12 00:00:00 81       20             0.333333        \n",
       "2 1503960366 2016-04-12 01:00:00 61        8             0.133333        \n",
       "3 1503960366 2016-04-12 02:00:00 59        7             0.116667        \n",
       "4 1503960366 2016-04-12 03:00:00 47        0             0.000000        \n",
       "5 1503960366 2016-04-12 04:00:00 48        0             0.000000        \n",
       "6 1503960366 2016-04-12 05:00:00 48        0             0.000000        \n",
       "  StepTotal DayParts \n",
       "1 373       overnight\n",
       "2 160       overnight\n",
       "3 151       overnight\n",
       "4   0       overnight\n",
       "5   0       overnight\n",
       "6   0       overnight"
      ]
     },
     "metadata": {},
     "output_type": "display_data"
    }
   ],
   "source": [
    "head(hourlyactivity)"
   ]
  },
  {
   "cell_type": "code",
   "execution_count": 7,
   "id": "fc13022e",
   "metadata": {},
   "outputs": [
    {
     "ename": "ERROR",
     "evalue": "Error in read_csv(\"sleepday.csv\", col_types = cols(sleepday = col_date(format = \"%Y-%m-%d\"))): impossible de trouver la fonction \"read_csv\"\n",
     "output_type": "error",
     "traceback": [
      "Error in read_csv(\"sleepday.csv\", col_types = cols(sleepday = col_date(format = \"%Y-%m-%d\"))): impossible de trouver la fonction \"read_csv\"\nTraceback:\n"
     ]
    }
   ],
   "source": [
    "sleepday <- read_csv(\"sleepday.csv\", col_types = cols(sleepday = col_date(format = \"%Y-%m-%d\")))"
   ]
  },
  {
   "cell_type": "code",
   "execution_count": 8,
   "id": "52a7e434",
   "metadata": {},
   "outputs": [
    {
     "data": {
      "text/html": [
       "<table>\n",
       "<thead><tr><th scope=col>Id</th><th scope=col>sleepday</th><th scope=col>TotalSleepRecords</th><th scope=col>TotalMinutesAsleep</th><th scope=col>TotalTimeInBed</th></tr></thead>\n",
       "<tbody>\n",
       "\t<tr><td>1503960366</td><td>2016-04-12</td><td>1         </td><td>327       </td><td>346       </td></tr>\n",
       "\t<tr><td>1503960366</td><td>2016-04-13</td><td>2         </td><td>384       </td><td>407       </td></tr>\n",
       "\t<tr><td>1503960366</td><td>2016-04-15</td><td>1         </td><td>412       </td><td>442       </td></tr>\n",
       "\t<tr><td>1503960366</td><td>2016-04-16</td><td>2         </td><td>340       </td><td>367       </td></tr>\n",
       "\t<tr><td>1503960366</td><td>2016-04-17</td><td>1         </td><td>700       </td><td>712       </td></tr>\n",
       "\t<tr><td>1503960366</td><td>2016-04-19</td><td>1         </td><td>304       </td><td>320       </td></tr>\n",
       "</tbody>\n",
       "</table>\n"
      ],
      "text/latex": [
       "\\begin{tabular}{r|lllll}\n",
       " Id & sleepday & TotalSleepRecords & TotalMinutesAsleep & TotalTimeInBed\\\\\n",
       "\\hline\n",
       "\t 1503960366 & 2016-04-12 & 1          & 327        & 346       \\\\\n",
       "\t 1503960366 & 2016-04-13 & 2          & 384        & 407       \\\\\n",
       "\t 1503960366 & 2016-04-15 & 1          & 412        & 442       \\\\\n",
       "\t 1503960366 & 2016-04-16 & 2          & 340        & 367       \\\\\n",
       "\t 1503960366 & 2016-04-17 & 1          & 700        & 712       \\\\\n",
       "\t 1503960366 & 2016-04-19 & 1          & 304        & 320       \\\\\n",
       "\\end{tabular}\n"
      ],
      "text/markdown": [
       "\n",
       "| Id | sleepday | TotalSleepRecords | TotalMinutesAsleep | TotalTimeInBed |\n",
       "|---|---|---|---|---|\n",
       "| 1503960366 | 2016-04-12 | 1          | 327        | 346        |\n",
       "| 1503960366 | 2016-04-13 | 2          | 384        | 407        |\n",
       "| 1503960366 | 2016-04-15 | 1          | 412        | 442        |\n",
       "| 1503960366 | 2016-04-16 | 2          | 340        | 367        |\n",
       "| 1503960366 | 2016-04-17 | 1          | 700        | 712        |\n",
       "| 1503960366 | 2016-04-19 | 1          | 304        | 320        |\n",
       "\n"
      ],
      "text/plain": [
       "  Id         sleepday   TotalSleepRecords TotalMinutesAsleep TotalTimeInBed\n",
       "1 1503960366 2016-04-12 1                 327                346           \n",
       "2 1503960366 2016-04-13 2                 384                407           \n",
       "3 1503960366 2016-04-15 1                 412                442           \n",
       "4 1503960366 2016-04-16 2                 340                367           \n",
       "5 1503960366 2016-04-17 1                 700                712           \n",
       "6 1503960366 2016-04-19 1                 304                320           "
      ]
     },
     "metadata": {},
     "output_type": "display_data"
    }
   ],
   "source": [
    "head(sleepday)"
   ]
  },
  {
   "cell_type": "raw",
   "id": "b08fdcd6",
   "metadata": {},
   "source": [
    "We check if columns are in the right formats before we start working"
   ]
  },
  {
   "cell_type": "code",
   "execution_count": 9,
   "id": "3a26f162",
   "metadata": {},
   "outputs": [
    {
     "name": "stdout",
     "output_type": "stream",
     "text": [
      "spec_tbl_df [940 x 16] (S3: spec_tbl_df/tbl_df/tbl/data.frame)\n",
      " $ Id                      : num [1:940] 1.5e+09 1.5e+09 1.5e+09 1.5e+09 1.5e+09 ...\n",
      " $ ActivityDate            : Date[1:940], format: \"2016-04-12\" \"2016-04-13\" ...\n",
      " $ TotalSteps              : num [1:940] 13162 10735 10460 9762 12669 ...\n",
      " $ TotalDistance           : num [1:940] 8.5 6.97 6.74 6.28 8.16 ...\n",
      " $ TrackerDistance         : num [1:940] 8.5 6.97 6.74 6.28 8.16 ...\n",
      " $ LoggedActivitiesDistance: num [1:940] 0 0 0 0 0 0 0 0 0 0 ...\n",
      " $ VeryActiveDistance      : num [1:940] 1.88 1.57 2.44 2.14 2.71 ...\n",
      " $ ModeratelyActiveDistance: num [1:940] 0.55 0.69 0.4 1.26 0.41 ...\n",
      " $ LightActiveDistance     : num [1:940] 6.06 4.71 3.91 2.83 5.04 ...\n",
      " $ SedentaryActiveDistance : num [1:940] 0 0 0 0 0 0 0 0 0 0 ...\n",
      " $ VeryActiveMinutes       : num [1:940] 25 21 30 29 36 38 42 50 28 19 ...\n",
      " $ FairlyActiveMinutes     : num [1:940] 13 19 11 34 10 20 16 31 12 8 ...\n",
      " $ LightlyActiveMinutes    : num [1:940] 328 217 181 209 221 164 233 264 205 211 ...\n",
      " $ SedentaryMinutes        : num [1:940] 728 776 1218 726 773 ...\n",
      " $ Calories                : num [1:940] 1985 1797 1776 1745 1863 ...\n",
      " $ day                     : chr [1:940] \"mardi\" \"mercredi\" \"jeudi\" \"vendredi\" ...\n",
      " - attr(*, \"spec\")=List of 3\n",
      "  ..$ cols   :List of 15\n",
      "  .. ..$ Id                      : list()\n",
      "  .. .. ..- attr(*, \"class\")= chr [1:2] \"collector_double\" \"collector\"\n",
      "  .. ..$ ActivityDate            :List of 1\n",
      "  .. .. ..$ format: chr \"%m/%d/%Y\"\n",
      "  .. .. ..- attr(*, \"class\")= chr [1:2] \"collector_date\" \"collector\"\n",
      "  .. ..$ TotalSteps              : list()\n",
      "  .. .. ..- attr(*, \"class\")= chr [1:2] \"collector_double\" \"collector\"\n",
      "  .. ..$ TotalDistance           : list()\n",
      "  .. .. ..- attr(*, \"class\")= chr [1:2] \"collector_double\" \"collector\"\n",
      "  .. ..$ TrackerDistance         : list()\n",
      "  .. .. ..- attr(*, \"class\")= chr [1:2] \"collector_double\" \"collector\"\n",
      "  .. ..$ LoggedActivitiesDistance: list()\n",
      "  .. .. ..- attr(*, \"class\")= chr [1:2] \"collector_double\" \"collector\"\n",
      "  .. ..$ VeryActiveDistance      : list()\n",
      "  .. .. ..- attr(*, \"class\")= chr [1:2] \"collector_double\" \"collector\"\n",
      "  .. ..$ ModeratelyActiveDistance: list()\n",
      "  .. .. ..- attr(*, \"class\")= chr [1:2] \"collector_double\" \"collector\"\n",
      "  .. ..$ LightActiveDistance     : list()\n",
      "  .. .. ..- attr(*, \"class\")= chr [1:2] \"collector_double\" \"collector\"\n",
      "  .. ..$ SedentaryActiveDistance : list()\n",
      "  .. .. ..- attr(*, \"class\")= chr [1:2] \"collector_double\" \"collector\"\n",
      "  .. ..$ VeryActiveMinutes       : list()\n",
      "  .. .. ..- attr(*, \"class\")= chr [1:2] \"collector_double\" \"collector\"\n",
      "  .. ..$ FairlyActiveMinutes     : list()\n",
      "  .. .. ..- attr(*, \"class\")= chr [1:2] \"collector_double\" \"collector\"\n",
      "  .. ..$ LightlyActiveMinutes    : list()\n",
      "  .. .. ..- attr(*, \"class\")= chr [1:2] \"collector_double\" \"collector\"\n",
      "  .. ..$ SedentaryMinutes        : list()\n",
      "  .. .. ..- attr(*, \"class\")= chr [1:2] \"collector_double\" \"collector\"\n",
      "  .. ..$ Calories                : list()\n",
      "  .. .. ..- attr(*, \"class\")= chr [1:2] \"collector_double\" \"collector\"\n",
      "  ..$ default: list()\n",
      "  .. ..- attr(*, \"class\")= chr [1:2] \"collector_guess\" \"collector\"\n",
      "  ..$ delim  : chr \",\"\n",
      "  ..- attr(*, \"class\")= chr \"col_spec\"\n",
      " - attr(*, \"problems\")=<externalptr> \n"
     ]
    }
   ],
   "source": [
    "str(dailyactivity)"
   ]
  },
  {
   "cell_type": "code",
   "execution_count": 10,
   "id": "88efb2d7",
   "metadata": {},
   "outputs": [
    {
     "name": "stdout",
     "output_type": "stream",
     "text": [
      "spec_tbl_df [22,099 x 7] (S3: spec_tbl_df/tbl_df/tbl/data.frame)\n",
      " $ Id              : num [1:22099] 1.5e+09 1.5e+09 1.5e+09 1.5e+09 1.5e+09 ...\n",
      " $ activityhour    : POSIXct[1:22099], format: \"2016-04-12 00:00:00\" \"2016-04-12 01:00:00\" ...\n",
      " $ Calories        : num [1:22099] 81 61 59 47 48 48 48 47 68 141 ...\n",
      " $ TotalIntensity  : num [1:22099] 20 8 7 0 0 0 0 0 13 30 ...\n",
      " $ AverageIntensity: num [1:22099] 0.333 0.133 0.117 0 0 ...\n",
      " $ StepTotal       : num [1:22099] 373 160 151 0 0 ...\n",
      " $ DayParts        : chr [1:22099] \"overnight\" \"overnight\" \"overnight\" \"overnight\" ...\n",
      " - attr(*, \"spec\")=List of 3\n",
      "  ..$ cols   :List of 6\n",
      "  .. ..$ Id              : list()\n",
      "  .. .. ..- attr(*, \"class\")= chr [1:2] \"collector_double\" \"collector\"\n",
      "  .. ..$ activityhour    :List of 1\n",
      "  .. .. ..$ format: chr \"\"\n",
      "  .. .. ..- attr(*, \"class\")= chr [1:2] \"collector_datetime\" \"collector\"\n",
      "  .. ..$ Calories        : list()\n",
      "  .. .. ..- attr(*, \"class\")= chr [1:2] \"collector_double\" \"collector\"\n",
      "  .. ..$ TotalIntensity  : list()\n",
      "  .. .. ..- attr(*, \"class\")= chr [1:2] \"collector_double\" \"collector\"\n",
      "  .. ..$ AverageIntensity: list()\n",
      "  .. .. ..- attr(*, \"class\")= chr [1:2] \"collector_double\" \"collector\"\n",
      "  .. ..$ StepTotal       : list()\n",
      "  .. .. ..- attr(*, \"class\")= chr [1:2] \"collector_double\" \"collector\"\n",
      "  ..$ default: list()\n",
      "  .. ..- attr(*, \"class\")= chr [1:2] \"collector_guess\" \"collector\"\n",
      "  ..$ delim  : chr \",\"\n",
      "  ..- attr(*, \"class\")= chr \"col_spec\"\n",
      " - attr(*, \"problems\")=<externalptr> \n"
     ]
    }
   ],
   "source": [
    "str(hourlyactivity)"
   ]
  },
  {
   "cell_type": "code",
   "execution_count": 11,
   "id": "6a5a1dae",
   "metadata": {},
   "outputs": [
    {
     "name": "stdout",
     "output_type": "stream",
     "text": [
      "spec_tbl_df [413 x 5] (S3: spec_tbl_df/tbl_df/tbl/data.frame)\n",
      " $ Id                : num [1:413] 1.5e+09 1.5e+09 1.5e+09 1.5e+09 1.5e+09 ...\n",
      " $ sleepday          : Date[1:413], format: \"2016-04-12\" \"2016-04-13\" ...\n",
      " $ TotalSleepRecords : num [1:413] 1 2 1 2 1 1 1 1 1 1 ...\n",
      " $ TotalMinutesAsleep: num [1:413] 327 384 412 340 700 304 360 325 361 430 ...\n",
      " $ TotalTimeInBed    : num [1:413] 346 407 442 367 712 320 377 364 384 449 ...\n",
      " - attr(*, \"spec\")=List of 3\n",
      "  ..$ cols   :List of 5\n",
      "  .. ..$ Id                : list()\n",
      "  .. .. ..- attr(*, \"class\")= chr [1:2] \"collector_double\" \"collector\"\n",
      "  .. ..$ sleepday          :List of 1\n",
      "  .. .. ..$ format: chr \"\"\n",
      "  .. .. ..- attr(*, \"class\")= chr [1:2] \"collector_date\" \"collector\"\n",
      "  .. ..$ TotalSleepRecords : list()\n",
      "  .. .. ..- attr(*, \"class\")= chr [1:2] \"collector_double\" \"collector\"\n",
      "  .. ..$ TotalMinutesAsleep: list()\n",
      "  .. .. ..- attr(*, \"class\")= chr [1:2] \"collector_double\" \"collector\"\n",
      "  .. ..$ TotalTimeInBed    : list()\n",
      "  .. .. ..- attr(*, \"class\")= chr [1:2] \"collector_double\" \"collector\"\n",
      "  ..$ default: list()\n",
      "  .. ..- attr(*, \"class\")= chr [1:2] \"collector_guess\" \"collector\"\n",
      "  ..$ delim  : chr \",\"\n",
      "  ..- attr(*, \"class\")= chr \"col_spec\"\n",
      " - attr(*, \"problems\")=<externalptr> \n"
     ]
    }
   ],
   "source": [
    "str(sleepday)"
   ]
  },
  {
   "cell_type": "raw",
   "id": "3d1d6e14",
   "metadata": {},
   "source": [
    "So we add a column to dailyactivity data frame called day to know at which day of the week are we at each date."
   ]
  },
  {
   "cell_type": "code",
   "execution_count": 12,
   "id": "d2d43bc1",
   "metadata": {},
   "outputs": [],
   "source": [
    "dailyactivity$day <- weekdays(dailyactivity$ActivityDate)"
   ]
  },
  {
   "cell_type": "raw",
   "id": "1be738ca",
   "metadata": {},
   "source": [
    "now we make a summary to check if the records have some clear differences and trends in different days of the week."
   ]
  },
  {
   "cell_type": "code",
   "execution_count": 13,
   "id": "c1da140f",
   "metadata": {},
   "outputs": [
    {
     "ename": "ERROR",
     "evalue": "Error in dailyactivity %>% group_by(day) %>% summarize(very_active_minutes = mean(VeryActiveMinutes), : impossible de trouver la fonction \"%>%\"\n",
     "output_type": "error",
     "traceback": [
      "Error in dailyactivity %>% group_by(day) %>% summarize(very_active_minutes = mean(VeryActiveMinutes), : impossible de trouver la fonction \"%>%\"\nTraceback:\n"
     ]
    }
   ],
   "source": [
    "day_check <- dailyactivity %>% \n",
    "  group_by(day) %>% \n",
    "  summarize(very_active_minutes = mean(VeryActiveMinutes), calories = mean(Calories),\n",
    "            total_steps = mean(TotalSteps))"
   ]
  },
  {
   "cell_type": "code",
   "execution_count": 14,
   "id": "2689b85c",
   "metadata": {
    "scrolled": true
   },
   "outputs": [
    {
     "name": "stdout",
     "output_type": "stream",
     "text": [
      "# A tibble: 7 x 4\n",
      "  day      very_active_minutes calories total_steps\n",
      "  <chr>                  <dbl>    <dbl>       <dbl>\n",
      "1 dimanche                20.0    2263        6933.\n",
      "2 jeudi                   19.4    2200.       7406.\n",
      "3 lundi                   23.1    2324.       7781.\n",
      "4 mardi                   23.0    2356.       8125.\n",
      "5 mercredi                20.8    2303.       7559.\n",
      "6 samedi                  21.9    2355.       8153.\n",
      "7 vendredi                20.1    2332.       7448.\n"
     ]
    }
   ],
   "source": [
    "print(day_check)"
   ]
  },
  {
   "cell_type": "raw",
   "id": "7953d6e8",
   "metadata": {},
   "source": [
    "We see that differences are very little to make any conclusions.\n",
    "\n",
    "\n",
    "let's make some plots to check for any possible trends between variables."
   ]
  },
  {
   "cell_type": "markdown",
   "id": "c9260915",
   "metadata": {},
   "source": [
    "### Check for relationship between calories and total steps"
   ]
  },
  {
   "cell_type": "code",
   "execution_count": 22,
   "id": "e10a5c40",
   "metadata": {},
   "outputs": [
    {
     "data": {
      "image/png": "[encoded data removed]",
      "text/plain": [
       "plot without title"
      ]
     },
     "metadata": {},
     "output_type": "display_data"
    }
   ],
   "source": [
    "mid <- median(dailyactivity$VeryActiveMinutes)\n",
    "ggplot(data=dailyactivity, aes(x=TotalSteps, y=Calories, color = VeryActiveMinutes)) +\n",
    "  geom_point() + geom_smooth(method = \"gam\", formula = y ~s(x)) +\n",
    "  scale_color_gradient2(midpoint = mid , low = \"blue\", mid = \"green\", high = \"red\") +\n",
    "  theme_bw() +\n",
    "  labs(title = \"Relationship between burned calories with total steps\",\n",
    "       subtitle = \"Comparing burned calories with total steps while highlighting very active minutes\",\n",
    "       caption = \"figure1: Relationship between burned calories and total steps\") +\n",
    "  theme(plot.title = element_text(face = \"bold\"))"
   ]
  },
  {
   "cell_type": "raw",
   "id": "342c076d",
   "metadata": {},
   "source": [
    "There is positive correlation between total steps and calories burned per day.\n",
    "we also notice from the colors how more very active minutes are related to more steps and burned calories."
   ]
  },
  {
   "cell_type": "markdown",
   "id": "5ac37ae7",
   "metadata": {},
   "source": [
    "### Check for relationship between calories and sedentary minutes"
   ]
  },
  {
   "cell_type": "code",
   "execution_count": null,
   "id": "d68fe7ef",
   "metadata": {},
   "outputs": [],
   "source": [
    "mid <- median(dailyactivity$VeryActiveMinutes)\n",
    "ggplot(data=dailyactivity, aes(x=SedentaryMinutes, y=Calories, color = VeryActiveMinutes)) +\n",
    "  geom_point() + geom_smooth(method = \"gam\", formula = y ~s(x)) +\n",
    "  scale_color_gradient2(midpoint = mid , low = \"blue\", mid = \"green\", high = \"red\") +\n",
    "  theme_bw() +\n",
    "  labs(title = \"Relationship between burned calories with sedentary minutes\",\n",
    "       subtitle = \"Comparing burned calories with sedentary minutes while highlighting very active minutes\",\n",
    "       caption = \"figure2: Relationship between burned calories and sedentary minutes\") +\n",
    "  theme(plot.title = element_text(face = \"bold\"))"
   ]
  },
  {
   "cell_type": "raw",
   "id": "6237ea97",
   "metadata": {},
   "source": [
    "In this chart we notice that more calories are burned when sedentary minutes are between 350 and 1120 minutes, But the lack of information about the partcipants lifestyle prevents us from taking the results for granted."
   ]
  },
  {
   "cell_type": "markdown",
   "id": "8a51988b",
   "metadata": {},
   "source": [
    "### Compare Total time in bed and total time asleep."
   ]
  },
  {
   "cell_type": "code",
   "execution_count": null,
   "id": "a2387f60",
   "metadata": {},
   "outputs": [],
   "source": [
    "ggplot(data = daily_records, aes(x = TotalMinutesAsleep, y = TotalTimeInBed)) +\n",
    "  geom_point() + geom_smooth(method = \"gam\", formula = y ~s(x)) +\n",
    "  labs(title = \"Relationship between Total time in bed and Total time asleep\",\n",
    "       caption = \"figure3: Relationship between Total time in bed and Total time asleep\") +\n",
    "  theme_bw() +\n",
    "  theme(plot.title = element_text(face = \"bold\"))"
   ]
  },
  {
   "cell_type": "raw",
   "id": "5d276e4a",
   "metadata": {},
   "source": [
    "As we can see we have a positive correlation which means that the problem of getting out of bed isn't common among participants."
   ]
  },
  {
   "cell_type": "code",
   "execution_count": null,
   "id": "720ee76c",
   "metadata": {},
   "outputs": [],
   "source": [
    "We go to the hourly activity data frame and add a column to separate time to dayparts(overnight, morning, midday, afternoon)."
   ]
  },
  {
   "cell_type": "code",
   "execution_count": null,
   "id": "f0763503",
   "metadata": {},
   "outputs": [],
   "source": [
    "T <- format(as.POSIXct(hourlyactivity$activityhour), format = \"%H:%M:%S\")\n",
    "hourlyactivity <- hourlyactivity %>%\n",
    "  mutate(DayParts = case_when(\n",
    "    T < \"06:00:00\" & T >= \"00:00:00\" ~ \"overnight\",\n",
    "    T < \"10:00:00\" & T >= \"06:00:00\" ~ \"morning\",\n",
    "    T < \"15:00:00\" & T >= \"10:00:00\" ~ \"midday\",\n",
    "    T < \"19:00:00\" & T >= \"15:00:00\" ~ \"afternoon\",\n",
    "    T >= \"19:00:00\" ~ \"evening\",\n",
    "    TRUE ~ \"other\")\n",
    "    )"
   ]
  },
  {
   "cell_type": "code",
   "execution_count": null,
   "id": "d75ee2a7",
   "metadata": {},
   "outputs": [],
   "source": [
    "head(hourlyactivity)"
   ]
  },
  {
   "cell_type": "raw",
   "id": "9e4043bc",
   "metadata": {},
   "source": [
    "Now lets take a look when people are most active throughout the day."
   ]
  },
  {
   "cell_type": "code",
   "execution_count": null,
   "id": "1a8ee6cd",
   "metadata": {},
   "outputs": [],
   "source": [
    "hourly_review <- hourlyactivity %>% \n",
    "  group_by(DayParts) %>% \n",
    "  summarize(average_calories = mean(Calories), average_steps = mean(StepTotal))\n",
    "head(hourly_review)"
   ]
  },
  {
   "cell_type": "code",
   "execution_count": null,
   "id": "a94811cc",
   "metadata": {},
   "outputs": [],
   "source": [
    "ggplot(data = hourly_review, aes(x = DayParts, y = average_steps, fill = DayParts)) +\n",
    "  geom_col() + theme_bw() +\n",
    "  labs(title = \"Average amount of steps walked through parts of the day\",\n",
    "       caption = \"figure4:Average amount of steps walked through parts of the day\")"
   ]
  },
  {
   "cell_type": "code",
   "execution_count": null,
   "id": "0de08cea",
   "metadata": {},
   "outputs": [],
   "source": [
    "ggplot(data = hourly_review, aes(x = DayParts, y = average_steps, fill = DayParts)) +\n",
    "  geom_col() + theme_bw() +\n",
    "  labs(title = \"Average amount of calories burned through parts of the day\",\n",
    "       caption = \"figure5:Average amount of calories burned through parts of the day\")"
   ]
  },
  {
   "cell_type": "raw",
   "id": "ca75c9dd",
   "metadata": {},
   "source": [
    "People are most active through midday and afternoon."
   ]
  },
  {
   "cell_type": "markdown",
   "id": "b22d338a",
   "metadata": {},
   "source": [
    "# Recommendations and key findings"
   ]
  },
  {
   "cell_type": "markdown",
   "id": "975de58a",
   "metadata": {},
   "source": [
    "### Key findings:"
   ]
  },
  {
   "cell_type": "markdown",
   "id": "357aa9d6",
   "metadata": {},
   "source": [
    "* From the data we have and after the analysis is done, We found that lack of activity is strongly associated with non healthy lifestyle.\n",
    "* By being more active throughout the day we burn more calories which leads to healthier lifestyle.\n",
    "* Having moderate amount of rest is good for being productive while having very few or too much rest leads to exhaustion.\n",
    "* Most people are more active during the day."
   ]
  },
  {
   "cell_type": "markdown",
   "id": "d4b78025",
   "metadata": {},
   "source": [
    "### Recommendations:"
   ]
  },
  {
   "cell_type": "markdown",
   "id": "b6a9cb7c",
   "metadata": {},
   "source": [
    "* Notify users when sedentary time is too high.\n",
    "* Make everyday target for calories to burn for each user based on her background information.\n",
    "* Make an index to tell if a user had enough sleeping hours.\n",
    "* Notify users to get out of bed when spending too much time in bed after waking up.\n",
    "* The app should adjust targets depending on how metrics change."
   ]
  }
 ],
 "metadata": {
  "kernelspec": {
   "display_name": "R",
   "language": "R",
   "name": "ir"
  },
  "language_info": {
   "codemirror_mode": "r",
   "file_extension": ".r",
   "mimetype": "text/x-r-source",
   "name": "R",
   "pygments_lexer": "r",
   "version": "3.6.1"
  }
 },
 "nbformat": 4,
 "nbformat_minor": 5
}
