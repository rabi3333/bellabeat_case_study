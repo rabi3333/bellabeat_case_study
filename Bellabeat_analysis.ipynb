{
 "cells": [
  {
   "cell_type": "markdown",
   "id": "b2e4cee0",
   "metadata": {},
   "source": [
    "# Analysis and Visuals"
   ]
  },
  {
   "cell_type": "raw",
   "id": "0d47c372",
   "metadata": {},
   "source": [
    "We import dailyactivity, sleepday and hourlyactivity datasets from SQL database into Rstudio for analysis."
   ]
  },
  {
   "cell_type": "code",
   "execution_count": 1,
   "id": "fedb535a",
   "metadata": {},
   "outputs": [
    {
     "name": "stderr",
     "output_type": "stream",
     "text": [
      "Warning message:\n",
      "\"package 'tidyverse' was built under R version 3.6.3\""
     ]
    },
    {
     "ename": "ERROR",
     "evalue": "Error: package or namespace load failed for 'tidyverse' in loadNamespace(j <- i[[1L]], c(lib.loc, .libPaths()), versionCheck = vI[[j]]):\n namespace 'broom' 0.5.2 is being loaded, but >= 0.7.6 is required\n",
     "output_type": "error",
     "traceback": [
      "Error: package or namespace load failed for 'tidyverse' in loadNamespace(j <- i[[1L]], c(lib.loc, .libPaths()), versionCheck = vI[[j]]):\n namespace 'broom' 0.5.2 is being loaded, but >= 0.7.6 is required\nTraceback:\n",
      "1. library(tidyverse)",
      "2. tryCatch({\n .     attr(package, \"LibPath\") <- which.lib.loc\n .     ns <- loadNamespace(package, lib.loc)\n .     env <- attachNamespace(ns, pos = pos, deps, exclude, include.only)\n . }, error = function(e) {\n .     P <- if (!is.null(cc <- conditionCall(e))) \n .         paste(\" in\", deparse(cc)[1L])\n .     else \"\"\n .     msg <- gettextf(\"package or namespace load failed for %s%s:\\n %s\", \n .         sQuote(package), P, conditionMessage(e))\n .     if (logical.return) \n .         message(paste(\"Error:\", msg), domain = NA)\n .     else stop(msg, call. = FALSE, domain = NA)\n . })",
      "3. tryCatchList(expr, classes, parentenv, handlers)",
      "4. tryCatchOne(expr, names, parentenv, handlers[[1L]])",
      "5. value[[3L]](cond)",
      "6. stop(msg, call. = FALSE, domain = NA)"
     ]
    }
   ],
   "source": [
    "library(tidyverse)"
   ]
  },
  {
   "cell_type": "code",
   "execution_count": null,
   "id": "8c7aed9d",
   "metadata": {},
   "outputs": [],
   "source": [
    "dailyactivity <- read_csv(\"dailyActivity_merged.csv\", \n",
    "    col_types = cols(ActivityDate = col_date(format = \"%m/%d/%Y\")))"
   ]
  },
  {
   "cell_type": "code",
   "execution_count": null,
   "id": "75840549",
   "metadata": {},
   "outputs": [],
   "source": [
    "head(dailyactivity)"
   ]
  },
  {
   "cell_type": "code",
   "execution_count": null,
   "id": "75935441",
   "metadata": {},
   "outputs": [],
   "source": [
    "hourlyactivity <- read_csv(\"hourlyactivity.csv\")"
   ]
  },
  {
   "cell_type": "code",
   "execution_count": null,
   "id": "629eddaf",
   "metadata": {},
   "outputs": [],
   "source": [
    "head(hourlyactivity)"
   ]
  },
  {
   "cell_type": "code",
   "execution_count": null,
   "id": "fc13022e",
   "metadata": {},
   "outputs": [],
   "source": [
    "sleepday <- read_csv(\"sleepday.csv\", col_types = cols(sleepday = col_date(format = \"%Y-%m-%d\")))"
   ]
  },
  {
   "cell_type": "code",
   "execution_count": null,
   "id": "52a7e434",
   "metadata": {},
   "outputs": [],
   "source": [
    "head(sleepday)"
   ]
  },
  {
   "cell_type": "raw",
   "id": "b08fdcd6",
   "metadata": {},
   "source": [
    "We check if columns are in the right formats before we start working"
   ]
  },
  {
   "cell_type": "code",
   "execution_count": null,
   "id": "3a26f162",
   "metadata": {},
   "outputs": [],
   "source": [
    "str(dailyactivity)"
   ]
  },
  {
   "cell_type": "code",
   "execution_count": null,
   "id": "88efb2d7",
   "metadata": {},
   "outputs": [],
   "source": [
    "str(hourlyactivity)"
   ]
  },
  {
   "cell_type": "code",
   "execution_count": null,
   "id": "6a5a1dae",
   "metadata": {},
   "outputs": [],
   "source": [
    "str(sleepday)"
   ]
  },
  {
   "cell_type": "raw",
   "id": "3d1d6e14",
   "metadata": {},
   "source": [
    "So we add a column to dailyactivity data frame called day to know at which day of the week are we at each date."
   ]
  },
  {
   "cell_type": "code",
   "execution_count": null,
   "id": "d2d43bc1",
   "metadata": {},
   "outputs": [],
   "source": [
    "dailyactivity$day <- weekdays(dailyactivity$ActivityDate)"
   ]
  },
  {
   "cell_type": "raw",
   "id": "1be738ca",
   "metadata": {},
   "source": [
    "now we make a summary to check if the records have some clear differences and trends in different days of the week."
   ]
  },
  {
   "cell_type": "code",
   "execution_count": null,
   "id": "c1da140f",
   "metadata": {},
   "outputs": [],
   "source": [
    "day_check <- dailyactivity %>% \n",
    "  group_by(day) %>% \n",
    "  summarize(very_active_minutes = mean(VeryActiveMinutes), calories = mean(Calories),\n",
    "            total_steps = mean(TotalSteps))"
   ]
  },
  {
   "cell_type": "code",
   "execution_count": null,
   "id": "2689b85c",
   "metadata": {
    "scrolled": true
   },
   "outputs": [],
   "source": [
    "print(day_check)"
   ]
  },
  {
   "cell_type": "raw",
   "id": "7953d6e8",
   "metadata": {},
   "source": [
    "We see that differences are very little to make any conclusions.\n",
    "\n",
    "\n",
    "let's make some plots to check for any possible trends between variables."
   ]
  },
  {
   "cell_type": "markdown",
   "id": "c9260915",
   "metadata": {},
   "source": [
    "### Check for relationship between calories and total steps"
   ]
  },
  {
   "cell_type": "code",
   "execution_count": null,
   "id": "e10a5c40",
   "metadata": {},
   "outputs": [],
   "source": [
    "mid <- median(dailyactivity$VeryActiveMinutes)\n",
    "ggplot(data=dailyactivity, aes(x=TotalSteps, y=Calories, color = VeryActiveMinutes)) +\n",
    "  geom_point() + geom_smooth(method = \"gam\", formula = y ~s(x)) +\n",
    "  scale_color_gradient2(midpoint = mid , low = \"blue\", mid = \"green\", high = \"red\") +\n",
    "  theme_bw() +\n",
    "  labs(title = \"Relationship between burned calories with total steps\",\n",
    "       subtitle = \"Comparing burned calories with total steps while highlighting very active minutes\",\n",
    "       caption = \"figure1: Relationship between burned calories and total steps\") +\n",
    "  theme(plot.title = element_text(face = \"bold\"))"
   ]
  },
  {
   "cell_type": "raw",
   "id": "342c076d",
   "metadata": {},
   "source": [
    "There is positive correlation between total steps and calories burned per day.\n",
    "we also notice from the colors how more very active minutes are related to more steps and burned calories."
   ]
  },
  {
   "cell_type": "markdown",
   "id": "5ac37ae7",
   "metadata": {},
   "source": [
    "### Check for relationship between calories and sedentary minutes"
   ]
  },
  {
   "cell_type": "code",
   "execution_count": 2,
   "id": "d68fe7ef",
   "metadata": {},
   "outputs": [
    {
     "ename": "ERROR",
     "evalue": "Error in ggplot(data = dailyactivity, aes(x = SedentaryMinutes, y = Calories, : impossible de trouver la fonction \"ggplot\"\n",
     "output_type": "error",
     "traceback": [
      "Error in ggplot(data = dailyactivity, aes(x = SedentaryMinutes, y = Calories, : impossible de trouver la fonction \"ggplot\"\nTraceback:\n"
     ]
    }
   ],
   "source": [
    "mid <- median(dailyactivity$VeryActiveMinutes)\n",
    "ggplot(data=dailyactivity, aes(x=SedentaryMinutes, y=Calories, color = VeryActiveMinutes)) +\n",
    "  geom_point() + geom_smooth(method = \"gam\", formula = y ~s(x)) +\n",
    "  scale_color_gradient2(midpoint = mid , low = \"blue\", mid = \"green\", high = \"red\") +\n",
    "  theme_bw() +\n",
    "  labs(title = \"Relationship between burned calories with sedentary minutes\",\n",
    "       subtitle = \"Comparing burned calories with sedentary minutes while highlighting very active minutes\",\n",
    "       caption = \"figure2: Relationship between burned calories and sedentary minutes\") +\n",
    "  theme(plot.title = element_text(face = \"bold\"))"
   ]
  },
  {
   "cell_type": "raw",
   "id": "6237ea97",
   "metadata": {},
   "source": [
    "In this chart we notice that more calories are burned when sedentary minutes are between 350 and 1120 minutes, But the lack of information about the partcipants lifestyle prevents us from taking the results for granted."
   ]
  },
  {
   "cell_type": "markdown",
   "id": "8a51988b",
   "metadata": {},
   "source": [
    "### Compare Total time in bed and total time asleep."
   ]
  },
  {
   "cell_type": "code",
   "execution_count": null,
   "id": "a2387f60",
   "metadata": {},
   "outputs": [],
   "source": [
    "ggplot(data = daily_records, aes(x = TotalMinutesAsleep, y = TotalTimeInBed)) +\n",
    "  geom_point() + geom_smooth(method = \"gam\", formula = y ~s(x)) +\n",
    "  labs(title = \"Relationship between Total time in bed and Total time asleep\",\n",
    "       caption = \"figure3: Relationship between Total time in bed and Total time asleep\") +\n",
    "  theme_bw() +\n",
    "  theme(plot.title = element_text(face = \"bold\"))"
   ]
  },
  {
   "cell_type": "raw",
   "id": "5d276e4a",
   "metadata": {},
   "source": [
    "As we can see we have a positive correlation which means that the problem of getting out of bed isn't common among participants."
   ]
  },
  {
   "cell_type": "code",
   "execution_count": null,
   "id": "720ee76c",
   "metadata": {},
   "outputs": [],
   "source": [
    "We go to the hourly activity data frame and add a column to separate time to dayparts(overnight, morning, midday, afternoon)."
   ]
  },
  {
   "cell_type": "code",
   "execution_count": null,
   "id": "f0763503",
   "metadata": {},
   "outputs": [],
   "source": [
    "T <- format(as.POSIXct(hourlyactivity$activityhour), format = \"%H:%M:%S\")\n",
    "hourlyactivity <- hourlyactivity %>%\n",
    "  mutate(DayParts = case_when(\n",
    "    T < \"06:00:00\" & T >= \"00:00:00\" ~ \"overnight\",\n",
    "    T < \"10:00:00\" & T >= \"06:00:00\" ~ \"morning\",\n",
    "    T < \"15:00:00\" & T >= \"10:00:00\" ~ \"midday\",\n",
    "    T < \"19:00:00\" & T >= \"15:00:00\" ~ \"afternoon\",\n",
    "    T >= \"19:00:00\" ~ \"evening\",\n",
    "    TRUE ~ \"other\")\n",
    "    )"
   ]
  },
  {
   "cell_type": "code",
   "execution_count": null,
   "id": "d75ee2a7",
   "metadata": {},
   "outputs": [],
   "source": [
    "head(hourlyactivity)"
   ]
  },
  {
   "cell_type": "raw",
   "id": "9e4043bc",
   "metadata": {},
   "source": [
    "Now lets take a look when people are most active throughout the day."
   ]
  },
  {
   "cell_type": "code",
   "execution_count": null,
   "id": "1a8ee6cd",
   "metadata": {},
   "outputs": [],
   "source": [
    "hourly_review <- hourlyactivity %>% \n",
    "  group_by(DayParts) %>% \n",
    "  summarize(average_calories = mean(Calories), average_steps = mean(StepTotal))\n",
    "head(hourly_review)"
   ]
  },
  {
   "cell_type": "code",
   "execution_count": null,
   "id": "a94811cc",
   "metadata": {},
   "outputs": [],
   "source": [
    "ggplot(data = hourly_review, aes(x = DayParts, y = average_steps, fill = DayParts)) +\n",
    "  geom_col() + theme_bw() +\n",
    "  labs(title = \"Average amount of steps walked through parts of the day\",\n",
    "       caption = \"figure4:Average amount of steps walked through parts of the day\")"
   ]
  },
  {
   "cell_type": "code",
   "execution_count": null,
   "id": "0de08cea",
   "metadata": {},
   "outputs": [],
   "source": [
    "ggplot(data = hourly_review, aes(x = DayParts, y = average_steps, fill = DayParts)) +\n",
    "  geom_col() + theme_bw() +\n",
    "  labs(title = \"Average amount of calories burned through parts of the day\",\n",
    "       caption = \"figure5:Average amount of calories burned through parts of the day\")"
   ]
  },
  {
   "cell_type": "raw",
   "id": "ca75c9dd",
   "metadata": {},
   "source": [
    "People are most active through midday and afternoon."
   ]
  },
  {
   "cell_type": "markdown",
   "id": "b22d338a",
   "metadata": {},
   "source": [
    "# Recommendations and key findings"
   ]
  },
  {
   "cell_type": "markdown",
   "id": "975de58a",
   "metadata": {},
   "source": [
    "### Key findings:"
   ]
  },
  {
   "cell_type": "markdown",
   "id": "357aa9d6",
   "metadata": {},
   "source": [
    "* From the data we have and after the analysis is done, We found that lack of activity is strongly associated with non healthy lifestyle.\n",
    "* By being more active throughout the day we burn more calories which leads to healthier lifestyle.\n",
    "* Having moderate amount of rest is good for being productive while having very few or too much rest leads to exhaustion.\n",
    "* Most people are more active during the day."
   ]
  },
  {
   "cell_type": "markdown",
   "id": "d4b78025",
   "metadata": {},
   "source": [
    "### Recommendations:"
   ]
  },
  {
   "cell_type": "markdown",
   "id": "b6a9cb7c",
   "metadata": {},
   "source": [
    "* Notify users when sedentary time is too high.\n",
    "* Make everyday target for calories to burn for each user based on her background information.\n",
    "* Make an index to tell if a user had enough sleeping hours.\n",
    "* Notify users to get out of bed when spending too much time in bed after waking up.\n",
    "* The app should adjust targets depending on how metrics change."
   ]
  }
 ],
 "metadata": {
  "kernelspec": {
   "display_name": "R",
   "language": "R",
   "name": "ir"
  },
  "language_info": {
   "codemirror_mode": "r",
   "file_extension": ".r",
   "mimetype": "text/x-r-source",
   "name": "R",
   "pygments_lexer": "r",
   "version": "3.6.1"
  }
 },
 "nbformat": 4,
 "nbformat_minor": 5
}
